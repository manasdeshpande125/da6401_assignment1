{
  "nbformat": 4,
  "nbformat_minor": 0,
  "metadata": {
    "colab": {
      "provenance": [],
      "include_colab_link": true
    },
    "kernelspec": {
      "name": "python3",
      "display_name": "Python 3"
    },
    "language_info": {
      "name": "python"
    }
  },
  "cells": [
    {
      "cell_type": "markdown",
      "metadata": {
        "id": "view-in-github",
        "colab_type": "text"
      },
      "source": [
        "<a href=\"https://colab.research.google.com/github/manasdeshpande125/da6401_assignment1/blob/main/Assignment1.ipynb\" target=\"_parent\"><img src=\"https://colab.research.google.com/assets/colab-badge.svg\" alt=\"Open In Colab\"/></a>"
      ]
    },
    {
      "cell_type": "code",
      "execution_count": null,
      "metadata": {
        "id": "UeqDyPnMCBXB"
      },
      "outputs": [],
      "source": [
        "import numpy as np\n",
        "import pandas as pd"
      ]
    },
    {
      "cell_type": "code",
      "source": [
        "from keras.datasets import fashion_mnist\n",
        "import matplotlib.pyplot as plt"
      ],
      "metadata": {
        "id": "cBeCODMkCn46"
      },
      "execution_count": null,
      "outputs": []
    },
    {
      "cell_type": "code",
      "source": [
        "df=fashion_mnist\n",
        "df"
      ],
      "metadata": {
        "colab": {
          "base_uri": "https://localhost:8080/"
        },
        "id": "UU9Z0NlwW2nW",
        "outputId": "6f78dd45-e411-445a-e782-d1576e6d9b0e"
      },
      "execution_count": null,
      "outputs": [
        {
          "output_type": "execute_result",
          "data": {
            "text/plain": [
              "<module 'keras.api.datasets.fashion_mnist' from '/usr/local/lib/python3.11/dist-packages/keras/api/datasets/fashion_mnist/__init__.py'>"
            ]
          },
          "metadata": {},
          "execution_count": 3
        }
      ]
    },
    {
      "cell_type": "code",
      "source": [
        "class_names = ['T-shirt/top', 'Trouser', 'Pullover', 'Dress', 'Coat',\n",
        "               'Sandal', 'Shirt', 'Sneaker', 'Bag', 'Ankle boot']"
      ],
      "metadata": {
        "id": "COutP2EFW4fg"
      },
      "execution_count": null,
      "outputs": []
    },
    {
      "cell_type": "code",
      "source": [
        "(trainX, trainy), (testX, testy) = fashion_mnist.load_data()"
      ],
      "metadata": {
        "colab": {
          "base_uri": "https://localhost:8080/"
        },
        "id": "J9JpzzNAXAbi",
        "outputId": "a3005fd3-5728-4a23-97fb-d5634f51ebe0"
      },
      "execution_count": null,
      "outputs": [
        {
          "output_type": "stream",
          "name": "stdout",
          "text": [
            "Downloading data from https://storage.googleapis.com/tensorflow/tf-keras-datasets/train-labels-idx1-ubyte.gz\n",
            "\u001b[1m29515/29515\u001b[0m \u001b[32m━━━━━━━━━━━━━━━━━━━━\u001b[0m\u001b[37m\u001b[0m \u001b[1m0s\u001b[0m 0us/step\n",
            "Downloading data from https://storage.googleapis.com/tensorflow/tf-keras-datasets/train-images-idx3-ubyte.gz\n",
            "\u001b[1m26421880/26421880\u001b[0m \u001b[32m━━━━━━━━━━━━━━━━━━━━\u001b[0m\u001b[37m\u001b[0m \u001b[1m0s\u001b[0m 0us/step\n",
            "Downloading data from https://storage.googleapis.com/tensorflow/tf-keras-datasets/t10k-labels-idx1-ubyte.gz\n",
            "\u001b[1m5148/5148\u001b[0m \u001b[32m━━━━━━━━━━━━━━━━━━━━\u001b[0m\u001b[37m\u001b[0m \u001b[1m0s\u001b[0m 0us/step\n",
            "Downloading data from https://storage.googleapis.com/tensorflow/tf-keras-datasets/t10k-images-idx3-ubyte.gz\n",
            "\u001b[1m4422102/4422102\u001b[0m \u001b[32m━━━━━━━━━━━━━━━━━━━━\u001b[0m\u001b[37m\u001b[0m \u001b[1m0s\u001b[0m 0us/step\n"
          ]
        }
      ]
    },
    {
      "cell_type": "code",
      "source": [
        "s=set()\n",
        "for i in range(len(trainX)):\n",
        "    # Check if the label is not in the set and if we have not yet plotted 10 images\n",
        "    if trainy[i] not in s and len(s) < 10:\n",
        "        # Add the label to the set\n",
        "        s.add(trainy[i])\n",
        "\n",
        "        # Create a subplot for the image\n",
        "        plt.subplot(2, 5, len(s))  # 2 rows, 5 columns, position based on the number of images plotted\n",
        "\n",
        "        # Display the image in grayscale\n",
        "        plt.imshow(trainX[i], cmap='gray')\n",
        "        plt.title(f'{class_names[trainy[i]]}')\n",
        "        plt.axis('off')\n",
        "\n",
        "    elif len(s)>10:\n",
        "      break"
      ],
      "metadata": {
        "colab": {
          "base_uri": "https://localhost:8080/",
          "height": 346
        },
        "id": "Fq2c1KbvW7ir",
        "outputId": "15ffd2a2-32fc-445c-cd13-e94eab629ae0"
      },
      "execution_count": null,
      "outputs": [
        {
          "output_type": "display_data",
          "data": {
            "text/plain": [
              "<Figure size 640x480 with 10 Axes>"
            ],
            "image/png": "[encoded data removed]"
          },
          "metadata": {}
        }
      ]
    },
    {
      "cell_type": "code",
      "source": [
        "import numpy as np\n",
        "X = [0.5,2.5]\n",
        "Y = [0.2,0.9]\n",
        "def f(x,w,b):\n",
        "  return 1/(1+np.exp(-(w*x+b)))\n",
        "\n",
        "def error(w,b):\n",
        "  err = 0.0\n",
        "  for x,y in zip(X,Y):\n",
        "    fx = f(x,w,b)\n",
        "    err += (fx-y)**2\n",
        "  return 0.5*err\n",
        "\n",
        "def grad_b(x,w,b,y):\n",
        "  fx = f(x,w,b)\n",
        "  return (fx-y)*fx*(1-fx)\n",
        "\n",
        "def grad_w(x,w,b,y):\n",
        "  fx = f(x,w,b)\n",
        "  return (fx-y)*fx*(1-fx)*x\n",
        "\n",
        "def do_gradient_descent():\n",
        "\n",
        "  eta,max_epochs = 1.0,200\n",
        "  w=[1,-2]\n",
        "  b=[1,-2]\n",
        "\n",
        "  for i in range(max_epochs):\n",
        "    for j in range(2):\n",
        "      dw,db = 0,0\n",
        "      for x,y in zip(X,Y):\n",
        "        dw += grad_w(x,w[j],b[j],y)\n",
        "        db += grad_b(x,w[j],b[j],y)\n",
        "\n",
        "      w[j] = w[j] - eta*dw\n",
        "      b[j] = b[j] - eta*db\n",
        "      if(i%10==0):\n",
        "          print(\"Layer\", j, \" Epoch \",i,\" Error: \",error(w[j],b[j]))"
      ],
      "metadata": {
        "id": "2b-CGkV-XBZz"
      },
      "execution_count": 1,
      "outputs": []
    },
    {
      "cell_type": "code",
      "source": [],
      "metadata": {
        "id": "g5IZZUYIXpTq"
      },
      "execution_count": null,
      "outputs": []
    }
  ]
}