{
  "nbformat": 4,
  "nbformat_minor": 0,
  "metadata": {
    "colab": {
      "provenance": [],
      "authorship_tag": "ABX9TyPos5Q9N9sYdyawpLgtJoCy",
      "include_colab_link": true
    },
    "kernelspec": {
      "name": "python3",
      "display_name": "Python 3"
    },
    "language_info": {
      "name": "python"
    }
  },
  "cells": [
    {
      "cell_type": "markdown",
      "metadata": {
        "id": "view-in-github",
        "colab_type": "text"
      },
      "source": [
        "<a href=\"https://colab.research.google.com/github/manasdeshpande125/da6401_assignment1/blob/main/DL_ASG1_Q3.ipynb\" target=\"_parent\"><img src=\"https://colab.research.google.com/assets/colab-badge.svg\" alt=\"Open In Colab\"/></a>"
      ]
    },
    {
      "cell_type": "code",
      "execution_count": 1,
      "metadata": {
        "id": "uq9QECVKBZXT"
      },
      "outputs": [],
      "source": [
        "from keras.datasets import fashion_mnist\n",
        "import numpy as np\n",
        "from  matplotlib import pyplot as plt\n",
        "import time\n",
        "import math\n",
        "from sklearn.model_selection import train_test_split\n",
        "import wandb"
      ]
    },
    {
      "cell_type": "code",
      "source": [
        "dataset= fashion_mnist.load_data()\n",
        "(X_train_and_validation, y_train_and_validation), (X_test, y_test) = dataset\n",
        "X_train, X_validation, y_train, y_validation = train_test_split(X_train_and_validation, y_train_and_validation, test_size=0.1, random_state=42)\n",
        "X_train = (X_train/255.0).astype(np.float32)\n",
        "X_validation = (X_validation/255.0).astype(np.float32)\n",
        "X_test = (X_test/255.0).astype(np.float32)\n",
        "\n",
        "print(\"Train Dataset Shape: \", X_train.shape)\n",
        "print(\"Train Target Vector Shape: \", y_train.shape)\n",
        "print(\"Test Dataset Shape:\", X_test.shape)\n",
        "print(\"Test Target Vector Shape\", y_test.shape)\n",
        "print(\"Validation Dataset Shape:\", X_validation.shape)\n",
        "print(\"Validation Target Vector Shape\", y_validation.shape)"
      ],
      "metadata": {
        "colab": {
          "base_uri": "https://localhost:8080/"
        },
        "id": "tJ6M1BinBn3K",
        "outputId": "3fd03234-ebe7-4aac-abdd-69b637bdf08f"
      },
      "execution_count": 2,
      "outputs": [
        {
          "output_type": "stream",
          "name": "stdout",
          "text": [
            "Downloading data from https://storage.googleapis.com/tensorflow/tf-keras-datasets/train-labels-idx1-ubyte.gz\n",
            "\u001b[1m29515/29515\u001b[0m \u001b[32m━━━━━━━━━━━━━━━━━━━━\u001b[0m\u001b[37m\u001b[0m \u001b[1m0s\u001b[0m 0us/step\n",
            "Downloading data from https://storage.googleapis.com/tensorflow/tf-keras-datasets/train-images-idx3-ubyte.gz\n",
            "\u001b[1m26421880/26421880\u001b[0m \u001b[32m━━━━━━━━━━━━━━━━━━━━\u001b[0m\u001b[37m\u001b[0m \u001b[1m0s\u001b[0m 0us/step\n",
            "Downloading data from https://storage.googleapis.com/tensorflow/tf-keras-datasets/t10k-labels-idx1-ubyte.gz\n",
            "\u001b[1m5148/5148\u001b[0m \u001b[32m━━━━━━━━━━━━━━━━━━━━\u001b[0m\u001b[37m\u001b[0m \u001b[1m0s\u001b[0m 0us/step\n",
            "Downloading data from https://storage.googleapis.com/tensorflow/tf-keras-datasets/t10k-images-idx3-ubyte.gz\n",
            "\u001b[1m4422102/4422102\u001b[0m \u001b[32m━━━━━━━━━━━━━━━━━━━━\u001b[0m\u001b[37m\u001b[0m \u001b[1m0s\u001b[0m 0us/step\n",
            "Train Dataset Shape:  (54000, 28, 28)\n",
            "Train Target Vector Shape:  (54000,)\n",
            "Test Dataset Shape: (10000, 28, 28)\n",
            "Test Target Vector Shape (10000,)\n",
            "Validation Dataset Shape: (6000, 28, 28)\n",
            "Validation Target Vector Shape (6000,)\n"
          ]
        }
      ]
    },
    {
      "cell_type": "code",
      "source": [
        "X_train = np.array(X_train.reshape(X_train.shape[0], 784,1))\n",
        "X_test = np.array(X_test.reshape(X_test.shape[0], 784,1))\n",
        "X_validation = np.array(X_validation.reshape(X_validation.shape[0], 784,1))"
      ],
      "metadata": {
        "id": "qIYsnpjUBq7o"
      },
      "execution_count": 3,
      "outputs": []
    },
    {
      "cell_type": "code",
      "source": [
        "def layer_init(arr,n1,n2,init_type):\n",
        "    np.random.seed(10)\n",
        "    if init_type==\"random\":\n",
        "        arr.append(np.random.randn(n1,n2)*0.1)\n",
        "    elif init_type==\"xavier\":\n",
        "        arr.append(np.random.randn(n1,n2)*np.sqrt(2/(n1+n2)))\n",
        "    return arr\n",
        "\n",
        "def param(layers,init_type):\n",
        "    W=[]\n",
        "    B=[]\n",
        "    for i in range(len(layers)-1):\n",
        "        W=layer_init(W,layers[i+1],layers[i],init_type)\n",
        "        B=layer_init(B,layers[i+1],1,init_type)\n",
        "    return W,B\n",
        "\n",
        "#Activation function\n",
        "def activation(activation_function):\n",
        "    if activation_function == 'sigmoid':\n",
        "        return sigmoid\n",
        "    if activation_function == 'tanh':\n",
        "        return tanh\n",
        "    if activation_function == 'ReLU':\n",
        "        return relu\n",
        "\n",
        "def sigmoid(x, derivative = False):\n",
        "    if derivative:\n",
        "        return sigmoid(x)*(1-sigmoid(x))\n",
        "    return 1/(1 + np.exp(-x))\n",
        "\n",
        "def tanh(x, derivative = False):\n",
        "    if derivative:\n",
        "        return 1 - tanh(x)**2\n",
        "    return (np.exp(x)-np.exp(-x))/(np.exp(x)+np.exp(-x))\n",
        "\n",
        "def relu(x, derivative = False):\n",
        "    if derivative:\n",
        "        return (x>0)*1\n",
        "    return x*(x>0)\n",
        "\n",
        "def softmax(x,derivative = False):\n",
        "    if derivative:\n",
        "        return softmax(x)*(1- softmax(x))\n",
        "    return np.exp(x)/np.sum(np.exp(x), axis = 0)\n",
        "\n",
        "def one_hot(y, num_output_nodes):\n",
        "    v = np.zeros((num_output_nodes, len(y)))\n",
        "    for i,j in enumerate(y):\n",
        "        v[j,i] = 1\n",
        "    return v\n",
        "\n",
        "\n",
        "def forward(x, W, B, activation_type):\n",
        "    h = []\n",
        "    a = []\n",
        "    sigma = activation(activation_type)  #activation\n",
        "    h.append(x)   #h0 = x\n",
        "    a.append(np.dot(W[0], h[0]) + B[0])\n",
        "    for i in range(len(W)-1):\n",
        "        h.append(sigma(a[-1]))\n",
        "        a.append(np.dot(W[i+1], h[-1]) + B[i+1])\n",
        "    y_hat = softmax(a[-1])\n",
        "\n",
        "    return y_hat, h, a"
      ],
      "metadata": {
        "id": "adIVaesNBtld"
      },
      "execution_count": 4,
      "outputs": []
    },
    {
      "cell_type": "code",
      "source": [
        "def loss(y,y_hat,l_type,W,reg,n_class):\n",
        "    if l_type=='cross_entropy':\n",
        "        err=-1*np.sum(np.multiply(one_hot(y,n_class),np.log(y_hat)))/one_hot(y,n_class).shape[1]\n",
        "    elif l_type=='squared_error':\n",
        "        err=np.sum((one_hot(y,n_class)-y_hat)**2)/(2*one_hot(y,n_class)).shape[1]\n",
        "\n",
        "    if W:\n",
        "        r=0\n",
        "        for i in range(len(W)):\n",
        "            r+=np.sum((np.array(W,dtype=object)**2)[i])\n",
        "        err=err+reg*r\n",
        "    return err\n",
        "\n",
        "def eval_acc(y_hat, y_true):\n",
        "    return np.mean(np.argmax(y_hat, axis = 0) ==y_true )*100\n"
      ],
      "metadata": {
        "id": "zZHV0L6iBz72"
      },
      "execution_count": 5,
      "outputs": []
    },
    {
      "cell_type": "code",
      "source": [
        "def back_prop(x, y, y_hat, a, h , W, B, batch_size,l_type,act_type):\n",
        "    grad_h,grad_a,grad_W,grad_B = [0]*len(h),[0]*len(a),[0]*len(W),[0]*len(B)\n",
        "    sigma = activation(act_type)\n",
        "\n",
        "    if l_type == \"cross_entropy\":\n",
        "        grad_h[-1] = -1*(y/y_hat)\n",
        "        grad_a[-1] = -1*(y-y_hat)\n",
        "\n",
        "    for i in range(len(W)-1, -1, -1):\n",
        "        grad_W[i] = np.dot(grad_a[i], h[i].T)\n",
        "        grad_B[i] = np.dot(grad_a[i], np.ones((batch_size,1)))\n",
        "        if i > 0:\n",
        "            grad_h[i-1] = np.dot(W[i].T, grad_a[i])\n",
        "            grad_a[i-1]  = np.multiply(grad_h[i-1],sigma(a[i-1], derivative = True))\n",
        "\n",
        "    return grad_W, grad_B, grad_h, grad_a"
      ],
      "metadata": {
        "id": "Ndc-GA6YB4AO"
      },
      "execution_count": 6,
      "outputs": []
    },
    {
      "cell_type": "code",
      "source": [
        "def sgd_step(W,B,grad_W,grad_B,lr,reg):\n",
        "    W=np.array(W,dtype=object)\n",
        "    B=np.array(B,dtype=object)\n",
        "    W-=lr*reg*W+lr*np.array(grad_W,dtype=object)\n",
        "    B-=lr*reg*B+lr*np.array(grad_B,dtype=object)\n",
        "\n",
        "    return W.tolist(),B.tolist()"
      ],
      "metadata": {
        "id": "om1Oqq9hDLuR"
      },
      "execution_count": 7,
      "outputs": []
    },
    {
      "cell_type": "code",
      "source": [
        "def momentum_setp(w, b, gW, gB, lr=0.001, gamma=0.9, reg=0):\n",
        "    params = {'w': w, 'b': b}\n",
        "\n",
        "    Wmoments = [np.zeros_like(p) for p in params['w']]\n",
        "    Bmoments = [np.zeros_like(p) for p in params['b']]\n",
        "\n",
        "    Wmoments = gamma * np.array(Wmoments,dtype=object) + lr * np.array(gW,dtype=object)\n",
        "    W = (1 - lr * reg) * np.array(params['w'],dtype=object) - Wmoments\n",
        "    Wmoments = Wmoments.tolist()\n",
        "\n",
        "    Bmoments = gamma * np.array(Bmoments,dtype=object) + lr * np.array(gB,dtype=object)\n",
        "    B = (1 - lr * reg) * np.array(params['b'],dtype=object) - Bmoments\n",
        "    Bmoments = Bmoments.tolist()\n",
        "\n",
        "    return W.tolist(), B.tolist()"
      ],
      "metadata": {
        "id": "Xr6JCKEjDOkc"
      },
      "execution_count": 8,
      "outputs": []
    },
    {
      "cell_type": "code",
      "source": [
        "def RMSprop_step(w, b, gW, gB, lr=0.01, beta=0.99):\n",
        "    params = {'w': w, 'b': b}\n",
        "\n",
        "    vW = [np.zeros_like(p) for p in params['w']]\n",
        "    vB = [np.zeros_like(p) for p in params['b']]\n",
        "\n",
        "    vW = beta * np.array(vW, dtype=object) + (1 - beta) * (np.array(gW, dtype=object) ** 2)\n",
        "    W = np.array(params['w'], dtype=object) - (lr / ((vW + 1e-7) ** 0.5)) * np.array(gW, dtype=object)\n",
        "\n",
        "    vB = beta * np.array(vB, dtype=object) + (1 - beta) * (np.array(gB, dtype=object) ** 2)\n",
        "    B = np.array(params['b'], dtype=object) - (lr / ((vB + 1e-7) ** 0.5)) * np.array(gB, dtype=object)\n",
        "\n",
        "    return W.tolist(), B.tolist()"
      ],
      "metadata": {
        "id": "d6KjETJzDXJi"
      },
      "execution_count": 9,
      "outputs": []
    },
    {
      "cell_type": "code",
      "source": [
        "def nesterov_sgd_step(w, b, gW, gB, lr=0.001, gamma=0.9, reg=0):\n",
        "    params = {'w': w, 'b': b}\n",
        "\n",
        "    Wmoments = [np.zeros_like(p) for p in params['w']]\n",
        "    Bmoments = [np.zeros_like(p) for p in params['b']]\n",
        "\n",
        "    # Lookahead step\n",
        "    lookahead_W = np.array(params['w'], dtype=object) - gamma * np.array(Wmoments, dtype=object)\n",
        "    lookahead_B = np.array(params['b'], dtype=object) - gamma * np.array(Bmoments, dtype=object)\n",
        "\n",
        "    # Compute gradients at lookahead position\n",
        "    Wmoments = gamma * np.array(Wmoments, dtype=object) + lr * np.array(gW, dtype=object)\n",
        "    W = (1 - lr * reg) * lookahead_W - Wmoments\n",
        "    Wmoments = Wmoments.tolist()\n",
        "\n",
        "    Bmoments = gamma * np.array(Bmoments, dtype=object) + lr * np.array(gB, dtype=object)\n",
        "    B = (1 - lr * reg) * lookahead_B - Bmoments\n",
        "    Bmoments = Bmoments.tolist()\n",
        "\n",
        "    return W.tolist(), B.tolist()\n"
      ],
      "metadata": {
        "id": "x971WbL9DaOv"
      },
      "execution_count": 10,
      "outputs": []
    },
    {
      "cell_type": "code",
      "source": [
        "def adam_sgd_step(w, b, gW, gB, lr=0.001, beta1=0.9, beta2=0.999, epsilon=1e-8, reg=0, t=1):\n",
        "    params = {'w': w, 'b': b}\n",
        "\n",
        "    Wm = [np.zeros_like(p) for p in params['w']]\n",
        "    Wv = [np.zeros_like(p) for p in params['w']]\n",
        "    Bm = [np.zeros_like(p) for p in params['b']]\n",
        "    Bv = [np.zeros_like(p) for p in params['b']]\n",
        "\n",
        "    # Update biased first moment estimate\n",
        "    Wm = beta1 * np.array(Wm, dtype=object) + (1 - beta1) * np.array(gW, dtype=object)\n",
        "    Bm = beta1 * np.array(Bm, dtype=object) + (1 - beta1) * np.array(gB, dtype=object)\n",
        "\n",
        "    # Update biased second raw moment estimate\n",
        "    Wv = beta2 * np.array(Wv, dtype=object) + (1 - beta2) * (np.array(gW, dtype=object) ** 2)\n",
        "    Bv = beta2 * np.array(Bv, dtype=object) + (1 - beta2) * (np.array(gB, dtype=object) ** 2)\n",
        "\n",
        "    # Compute bias-corrected moment estimates\n",
        "    Wm_hat = Wm / (1 - beta1 ** t)\n",
        "    Wv_hat = Wv / (1 - beta2 ** t)\n",
        "    Bm_hat = Bm / (1 - beta1 ** t)\n",
        "    Bv_hat = Bv / (1 - beta2 ** t)\n",
        "\n",
        "    # Update parameters\n",
        "    W = (1 - lr * reg) * np.array(params['w'], dtype=object) - lr * (Wm_hat / (np.sqrt(Wv_hat) + epsilon))\n",
        "    B = (1 - lr * reg) * np.array(params['b'], dtype=object) - lr * (Bm_hat / (np.sqrt(Bv_hat) + epsilon))\n",
        "\n",
        "    return W.tolist(), B.tolist()\n"
      ],
      "metadata": {
        "id": "MOeGmxnPDxDD"
      },
      "execution_count": 11,
      "outputs": []
    },
    {
      "cell_type": "code",
      "source": [
        "def nadam_sgd_step(w, b, gW, gB, lr=0.001, beta1=0.9, beta2=0.999, epsilon=1e-8, reg=0, t=1):\n",
        "    params = {'w': w, 'b': b}\n",
        "\n",
        "    Wm = [np.zeros_like(p) for p in params['w']]\n",
        "    Wv = [np.zeros_like(p) for p in params['w']]\n",
        "    Bm = [np.zeros_like(p) for p in params['b']]\n",
        "    Bv = [np.zeros_like(p) for p in params['b']]\n",
        "\n",
        "    # Compute lookahead momentum term for Nesterov-like update\n",
        "    Wm = beta1 * np.array(Wm, dtype=object) + (1 - beta1) * np.array(gW, dtype=object)\n",
        "    Bm = beta1 * np.array(Bm, dtype=object) + (1 - beta1) * np.array(gB, dtype=object)\n",
        "\n",
        "    Wm_nesterov = beta1 * Wm + (1 - beta1) * np.array(gW, dtype=object)\n",
        "    Bm_nesterov = beta1 * Bm + (1 - beta1) * np.array(gB, dtype=object)\n",
        "\n",
        "    # Update biased second raw moment estimate\n",
        "    Wv = beta2 * np.array(Wv, dtype=object) + (1 - beta2) * (np.array(gW, dtype=object) ** 2)\n",
        "    Bv = beta2 * np.array(Bv, dtype=object) + (1 - beta2) * (np.array(gB, dtype=object) ** 2)\n",
        "\n",
        "    # Compute bias-corrected moment estimates\n",
        "    Wm_hat = Wm_nesterov / (1 - beta1 ** t)\n",
        "    Wv_hat = Wv / (1 - beta2 ** t)\n",
        "    Bm_hat = Bm_nesterov / (1 - beta1 ** t)\n",
        "    Bv_hat = Bv / (1 - beta2 ** t)\n",
        "\n",
        "    # Update parameters\n",
        "    W = (1 - lr * reg) * np.array(params['w'], dtype=object) - lr * (Wm_hat / (np.sqrt(Wv_hat) + epsilon))\n",
        "    B = (1 - lr * reg) * np.array(params['b'], dtype=object) - lr * (Bm_hat / (np.sqrt(Bv_hat) + epsilon))\n",
        "\n",
        "    return W.tolist(), B.tolist()\n"
      ],
      "metadata": {
        "id": "QOXRmae-D_sE"
      },
      "execution_count": 12,
      "outputs": []
    },
    {
      "cell_type": "code",
      "source": [
        "def train(X_train, y_train, x_val, y_val, num_inputs_nodes, hidden_layers, out_num, init_type, epochs,\n",
        "          batch_size, l_type, act_type, op_name, lr_rate, reg=0):\n",
        "    in_node = [num_inputs_nodes]\n",
        "    layers = []\n",
        "    layers.extend(in_node)\n",
        "    layers.extend(hidden_layers)\n",
        "    layers.extend([out_num])\n",
        "    W, B = param(layers, init_type)\n",
        "    N = X_train.shape[0]\n",
        "    n_batches = int(np.floor(N / batch_size))\n",
        "\n",
        "\n",
        "    for epoch in range(epochs):\n",
        "\n",
        "        train_loss = []\n",
        "        train_accuracy = []\n",
        "        val_loss = []\n",
        "        val_accuracy = []\n",
        "        l = 0\n",
        "        acc = 0\n",
        "        temp = 0\n",
        "        ds = 0\n",
        "        steps = 1\n",
        "        while ds < N:\n",
        "            mini_batch_size = min((N - ds), batch_size)\n",
        "            x = np.squeeze(X_train[ds:ds + mini_batch_size]).T\n",
        "            y = one_hot(y_train[ds:ds + mini_batch_size], out_num)\n",
        "            y_hat, h, a = forward(x, W, B, act_type)\n",
        "            grad_W, grad_B, grad_h, grad_a = back_prop(x, y, y_hat, a, h, W, B, batch_size, l_type, act_type)\n",
        "            if op_name=='sgd':\n",
        "                W,B=sgd_step(W, B, grad_W, grad_B,lr_rate,reg)\n",
        "            elif op_name=='momentum':\n",
        "                W,B=momentum_setp(W, B, grad_W, grad_B,lr_rate,reg)\n",
        "            elif op_name=='rmsprop':\n",
        "                W,B=RMSprop_step(W, B, grad_W, grad_B,lr_rate,reg)\n",
        "            elif op_name==\"nesterov\":\n",
        "                W,B=nesterov_sgd_step(W, B, grad_W, grad_B,lr_rate,reg)\n",
        "            elif op_name==\"adam\":\n",
        "                W,B=adam_sgd_step(W, B, grad_W, grad_B,lr_rate,reg)\n",
        "            elif op_name==\"nadam\":\n",
        "                W,B=nadam_sgd_step(W, B, grad_W, grad_B,lr_rate,reg)\n",
        "            l += loss(y_train[ds:ds + mini_batch_size], y_hat, l_type, W, reg, out_num)\n",
        "            acc += eval_acc(y_hat, y_train[ds:ds + mini_batch_size])\n",
        "            steps += 1\n",
        "            if mini_batch_size == (N - ds):\n",
        "                sample_size = mini_batch_size\n",
        "            ds += batch_size\n",
        "        l = l / (n_batches + sample_size)\n",
        "        acc = acc / steps\n",
        "\n",
        "        train_loss.append(l)\n",
        "        train_accuracy.append(acc)\n",
        "\n",
        "        y_val_hat, _, _ = forward(np.squeeze(x_val).T, W, B, act_type)\n",
        "        val_acc = eval_acc(y_val_hat, y_val)\n",
        "        val_l = loss(y_val, y_val_hat, l_type, W=None, reg=reg, n_class=out_num)\n",
        "        val_accuracy.append(val_acc)\n",
        "        val_loss.append(val_l)\n",
        "\n",
        "        wandb.log({\"epoch\": epoch, \"Train_loss\": l, \"Train_acc\": acc, \"val_loss\": val_l, \"val_Accuracy\": val_acc})\n",
        "#         print('Epoch', epoch)\n",
        "#         print('Train loss', l)\n",
        "#         print('Train acc', acc)\n",
        "#         print('Val loss', val_l)\n",
        "#         print('Val accu', val_acc)\n",
        "    return W, B, train_loss, train_accuracy, val_loss, val_accuracy\n"
      ],
      "metadata": {
        "id": "uCgGPCHpIMuY"
      },
      "execution_count": 19,
      "outputs": []
    },
    {
      "cell_type": "code",
      "source": [
        "sweep_configuration = {'method'    : \"grid\",\n",
        "                       'metric'    : {'name': 'val_Accuracy','goal':'maximize'},\n",
        "                       'parameters': {'epochs':{'values':[5,10]},\n",
        "                                      'hidden_layers':{'values':[[32,64,128]] },\n",
        "                                      'learning_rate':{'values':[1e-3,1e-4]},\n",
        "                                      'weight_decay':{'values':[0, 0.0005, 0.5]},\n",
        "                                      'optimizer_name': {'values':['sgd', 'momentum', 'nesterov', 'rmsprop', 'adam', 'nadam']},\n",
        "                                      'batch_size':{'values':[16, 32, 64]},\n",
        "                                      'init_type': {'values':['random','xavier']},\n",
        "                                      'activation_type':{'values':['sigmoid','tanh','ReLU']},\n",
        "                                      'loss_type': {'values':['cross_entropy','squared_error']} }}"
      ],
      "metadata": {
        "id": "oGKUr7ElJYqW"
      },
      "execution_count": 20,
      "outputs": []
    },
    {
      "cell_type": "code",
      "source": [
        "def sweep_train():\n",
        "\n",
        "  # hyperparameters=dict(epochs = 5,\n",
        "  #                     hidden_layers= [64,32],\n",
        "  #                     learning_rate=1e-4,\n",
        "  #                     weight_decay=0,\n",
        "  #                     optimizer_name='sgd',\n",
        "  #                     batch_size=16,\n",
        "  #                     init_type='random',\n",
        "  #                     activation_type='sigmoid',\n",
        "  #                     loss_type='cross_entropy',\n",
        "  #                     reg_lamda=0)\n",
        "\n",
        "  wandb.init(project=\"DA6401-Assignment-1\", entity=\"Manas\")\n",
        "  config=wandb.config\n",
        "  epochs=config.epochs\n",
        "  hidden_layers=config.hidden_layers\n",
        "  learning_rate=config.learning_rate\n",
        "  weight_decay=config.weight_decay\n",
        "  optimizer_name=config.optimizer_name\n",
        "  batch_size=config.batch_size\n",
        "  init_type=config.init_type\n",
        "  activation_type=config.activation_type\n",
        "  loss_type=config.loss_type\n",
        "  #reg_lamda=config.reg_lamda\n",
        "  wandb.run.name = \"e_{}_hl_{}_lr_{}_wd_{}_o_{}_bs_{}_winit_{}_ac_{}_los_{}\".format(epochs,\\\n",
        "                                                                                    hidden_layers,\\\n",
        "                                                                                    learning_rate,\\\n",
        "                                                                                    weight_decay,\\\n",
        "                                                                                    optimizer_name,\\\n",
        "                                                                                    batch_size,\\\n",
        "                                                                                    init_type,\\\n",
        "                                                                                    activation_type,\\\n",
        "                                                                                    loss_type)\n",
        "\n",
        "  _,_,train_loss, train_accuracy, val_loss, val_accuracy = train(X_train, y_train, X_validation, y_validation, 784, hidden_layers, 10, init_type, epochs, batch_size, loss_type, activation_type, optimizer_name, learning_rate)"
      ],
      "metadata": {
        "id": "r1TcyFTSKhA9"
      },
      "execution_count": 21,
      "outputs": []
    },
    {
      "cell_type": "code",
      "source": [
        "sweep_id = wandb.sweep(sweep_configuration,project='DA6401-Assignment-1')\n",
        "wandb.agent(sweep_id,function=sweep_train,project='DA6401-Assignment-1',count=1)"
      ],
      "metadata": {
        "id": "TMBeFHDHLJ-b",
        "colab": {
          "base_uri": "https://localhost:8080/",
          "height": 849
        },
        "outputId": "91b63a17-63db-4a7d-8811-6a5ebea875ae"
      },
      "execution_count": 22,
      "outputs": [
        {
          "output_type": "stream",
          "name": "stdout",
          "text": [
            "Create sweep with ID: eqxtf5vg\n",
            "Sweep URL: https://wandb.ai/manasdeshpande4902-iit-madras/DA6401-Assignment-1/sweeps/eqxtf5vg\n"
          ]
        },
        {
          "output_type": "stream",
          "name": "stderr",
          "text": [
            "\u001b[34m\u001b[1mwandb\u001b[0m: Agent Starting Run: hg6mh9fz with config:\n",
            "\u001b[34m\u001b[1mwandb\u001b[0m: \tactivation_type: sigmoid\n",
            "\u001b[34m\u001b[1mwandb\u001b[0m: \tbatch_size: 16\n",
            "\u001b[34m\u001b[1mwandb\u001b[0m: \tepochs: 5\n",
            "\u001b[34m\u001b[1mwandb\u001b[0m: \thidden_layers: [32, 64, 128]\n",
            "\u001b[34m\u001b[1mwandb\u001b[0m: \tinit_type: random\n",
            "\u001b[34m\u001b[1mwandb\u001b[0m: \tlearning_rate: 0.001\n",
            "\u001b[34m\u001b[1mwandb\u001b[0m: \tloss_type: cross_entropy\n",
            "\u001b[34m\u001b[1mwandb\u001b[0m: \toptimizer_name: sgd\n",
            "\u001b[34m\u001b[1mwandb\u001b[0m: \tweight_decay: 0\n"
          ]
        },
        {
          "output_type": "display_data",
          "data": {
            "text/plain": [
              "<IPython.core.display.HTML object>"
            ],
            "text/html": [
              "Ignoring project 'DA6401-Assignment-1' when running a sweep."
            ]
          },
          "metadata": {}
        },
        {
          "output_type": "display_data",
          "data": {
            "text/plain": [
              "<IPython.core.display.HTML object>"
            ],
            "text/html": [
              "Ignoring entity 'Manas' when running a sweep."
            ]
          },
          "metadata": {}
        },
        {
          "output_type": "display_data",
          "data": {
            "text/plain": [
              "<IPython.core.display.HTML object>"
            ],
            "text/html": [
              "Tracking run with wandb version 0.19.7"
            ]
          },
          "metadata": {}
        },
        {
          "output_type": "display_data",
          "data": {
            "text/plain": [
              "<IPython.core.display.HTML object>"
            ],
            "text/html": [
              "Run data is saved locally in <code>/content/wandb/run-20250309_042446-hg6mh9fz</code>"
            ]
          },
          "metadata": {}
        },
        {
          "output_type": "display_data",
          "data": {
            "text/plain": [
              "<IPython.core.display.HTML object>"
            ],
            "text/html": [
              "Syncing run <strong><a href='https://wandb.ai/manasdeshpande4902-iit-madras/DA6401-Assignment-1/runs/hg6mh9fz' target=\"_blank\">blooming-sweep-1</a></strong> to <a href='https://wandb.ai/manasdeshpande4902-iit-madras/DA6401-Assignment-1' target=\"_blank\">Weights & Biases</a> (<a href='https://wandb.me/developer-guide' target=\"_blank\">docs</a>)<br>Sweep page: <a href='https://wandb.ai/manasdeshpande4902-iit-madras/DA6401-Assignment-1/sweeps/eqxtf5vg' target=\"_blank\">https://wandb.ai/manasdeshpande4902-iit-madras/DA6401-Assignment-1/sweeps/eqxtf5vg</a>"
            ]
          },
          "metadata": {}
        },
        {
          "output_type": "display_data",
          "data": {
            "text/plain": [
              "<IPython.core.display.HTML object>"
            ],
            "text/html": [
              " View project at <a href='https://wandb.ai/manasdeshpande4902-iit-madras/DA6401-Assignment-1' target=\"_blank\">https://wandb.ai/manasdeshpande4902-iit-madras/DA6401-Assignment-1</a>"
            ]
          },
          "metadata": {}
        },
        {
          "output_type": "display_data",
          "data": {
            "text/plain": [
              "<IPython.core.display.HTML object>"
            ],
            "text/html": [
              " View sweep at <a href='https://wandb.ai/manasdeshpande4902-iit-madras/DA6401-Assignment-1/sweeps/eqxtf5vg' target=\"_blank\">https://wandb.ai/manasdeshpande4902-iit-madras/DA6401-Assignment-1/sweeps/eqxtf5vg</a>"
            ]
          },
          "metadata": {}
        },
        {
          "output_type": "display_data",
          "data": {
            "text/plain": [
              "<IPython.core.display.HTML object>"
            ],
            "text/html": [
              " View run at <a href='https://wandb.ai/manasdeshpande4902-iit-madras/DA6401-Assignment-1/runs/hg6mh9fz' target=\"_blank\">https://wandb.ai/manasdeshpande4902-iit-madras/DA6401-Assignment-1/runs/hg6mh9fz</a>"
            ]
          },
          "metadata": {}
        },
        {
          "output_type": "display_data",
          "data": {
            "text/plain": [
              "<IPython.core.display.HTML object>"
            ],
            "text/html": []
          },
          "metadata": {}
        },
        {
          "output_type": "display_data",
          "data": {
            "text/plain": [
              "<IPython.core.display.HTML object>"
            ],
            "text/html": [
              "<br>    <style><br>        .wandb-row {<br>            display: flex;<br>            flex-direction: row;<br>            flex-wrap: wrap;<br>            justify-content: flex-start;<br>            width: 100%;<br>        }<br>        .wandb-col {<br>            display: flex;<br>            flex-direction: column;<br>            flex-basis: 100%;<br>            flex: 1;<br>            padding: 10px;<br>        }<br>    </style><br><div class=\"wandb-row\"><div class=\"wandb-col\"><h3>Run history:</h3><br/><table class=\"wandb\"><tr><td>Train_acc</td><td>▁▃▆▇█</td></tr><tr><td>Train_loss</td><td>█▆▃▂▁</td></tr><tr><td>epoch</td><td>▁▃▅▆█</td></tr><tr><td>val_Accuracy</td><td>▁▂▅▇█</td></tr><tr><td>val_loss</td><td>█▄▃▂▁</td></tr></table><br/></div><div class=\"wandb-col\"><h3>Run summary:</h3><br/><table class=\"wandb\"><tr><td>Train_acc</td><td>64.08286</td></tr><tr><td>Train_loss</td><td>0.95479</td></tr><tr><td>epoch</td><td>4</td></tr><tr><td>val_Accuracy</td><td>65.98333</td></tr><tr><td>val_loss</td><td>0.89419</td></tr></table><br/></div></div>"
            ]
          },
          "metadata": {}
        },
        {
          "output_type": "display_data",
          "data": {
            "text/plain": [
              "<IPython.core.display.HTML object>"
            ],
            "text/html": [
              " View run <strong style=\"color:#cdcd00\">e_5_hl_[32, 64, 128]_lr_0.001_wd_0_o_sgd_bs_16_winit_random_ac_sigmoid_los_cross_entropy</strong> at: <a href='https://wandb.ai/manasdeshpande4902-iit-madras/DA6401-Assignment-1/runs/hg6mh9fz' target=\"_blank\">https://wandb.ai/manasdeshpande4902-iit-madras/DA6401-Assignment-1/runs/hg6mh9fz</a><br> View project at: <a href='https://wandb.ai/manasdeshpande4902-iit-madras/DA6401-Assignment-1' target=\"_blank\">https://wandb.ai/manasdeshpande4902-iit-madras/DA6401-Assignment-1</a><br>Synced 5 W&B file(s), 0 media file(s), 0 artifact file(s) and 0 other file(s)"
            ]
          },
          "metadata": {}
        },
        {
          "output_type": "display_data",
          "data": {
            "text/plain": [
              "<IPython.core.display.HTML object>"
            ],
            "text/html": [
              "Find logs at: <code>./wandb/run-20250309_042446-hg6mh9fz/logs</code>"
            ]
          },
          "metadata": {}
        }
      ]
    },
    {
      "cell_type": "code",
      "source": [],
      "metadata": {
        "id": "JH_0x-fFO6uz"
      },
      "execution_count": null,
      "outputs": []
    }
  ]
}