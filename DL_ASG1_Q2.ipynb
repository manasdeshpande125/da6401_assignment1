{
  "nbformat": 4,
  "nbformat_minor": 0,
  "metadata": {
    "colab": {
      "provenance": [],
      "authorship_tag": "ABX9TyNTQ4JydV+uZquUCijWJD2Q",
      "include_colab_link": true
    },
    "kernelspec": {
      "name": "python3",
      "display_name": "Python 3"
    },
    "language_info": {
      "name": "python"
    }
  },
  "cells": [
    {
      "cell_type": "markdown",
      "metadata": {
        "id": "view-in-github",
        "colab_type": "text"
      },
      "source": [
        "<a href=\"https://colab.research.google.com/github/manasdeshpande125/da6401_assignment1/blob/main/DL_ASG1_Q2.ipynb\" target=\"_parent\"><img src=\"https://colab.research.google.com/assets/colab-badge.svg\" alt=\"Open In Colab\"/></a>"
      ]
    },
    {
      "cell_type": "markdown",
      "source": [
        "**Importing Necessary Libraries**"
      ],
      "metadata": {
        "id": "zVcQ_3wAHVQO"
      }
    },
    {
      "cell_type": "code",
      "execution_count": 1,
      "metadata": {
        "id": "1Xt344yy7lWX"
      },
      "outputs": [],
      "source": [
        "from keras.datasets import fashion_mnist\n",
        "import numpy as np\n",
        "from  matplotlib import pyplot as plt\n",
        "import time\n",
        "import math\n",
        "from sklearn.model_selection import train_test_split\n",
        "import wandb"
      ]
    },
    {
      "cell_type": "markdown",
      "source": [
        "**Loading the Dataset**"
      ],
      "metadata": {
        "id": "dA3CZTLkHaOc"
      }
    },
    {
      "cell_type": "code",
      "source": [
        "dataset= fashion_mnist.load_data()\n",
        "(X_train_and_validation, y_train_and_validation), (X_test, y_test) = dataset\n",
        "X_train, X_validation, y_train, y_validation = train_test_split(X_train_and_validation, y_train_and_validation, test_size=0.1, random_state=42)\n",
        "X_train = (X_train/255.0).astype(np.float32)\n",
        "X_validation = (X_validation/255.0).astype(np.float32)\n",
        "X_test = (X_test/255.0).astype(np.float32)\n",
        "\n",
        "print(\"Train Dataset Shape: \", X_train.shape)\n",
        "print(\"Train Target Vector Shape: \", y_train.shape)\n",
        "print(\"Test Dataset Shape:\", X_test.shape)\n",
        "print(\"Test Target Vector Shape\", y_test.shape)\n",
        "print(\"Validation Dataset Shape:\", X_validation.shape)\n",
        "print(\"Validation Target Vector Shape\", y_validation.shape)"
      ],
      "metadata": {
        "id": "zB2Zc2P57zbQ",
        "colab": {
          "base_uri": "https://localhost:8080/"
        },
        "outputId": "0ab690f5-8cf2-49a8-a2a7-f3efa30e744f"
      },
      "execution_count": 2,
      "outputs": [
        {
          "output_type": "stream",
          "name": "stdout",
          "text": [
            "Downloading data from https://storage.googleapis.com/tensorflow/tf-keras-datasets/train-labels-idx1-ubyte.gz\n",
            "\u001b[1m29515/29515\u001b[0m \u001b[32m━━━━━━━━━━━━━━━━━━━━\u001b[0m\u001b[37m\u001b[0m \u001b[1m0s\u001b[0m 0us/step\n",
            "Downloading data from https://storage.googleapis.com/tensorflow/tf-keras-datasets/train-images-idx3-ubyte.gz\n",
            "\u001b[1m26421880/26421880\u001b[0m \u001b[32m━━━━━━━━━━━━━━━━━━━━\u001b[0m\u001b[37m\u001b[0m \u001b[1m0s\u001b[0m 0us/step\n",
            "Downloading data from https://storage.googleapis.com/tensorflow/tf-keras-datasets/t10k-labels-idx1-ubyte.gz\n",
            "\u001b[1m5148/5148\u001b[0m \u001b[32m━━━━━━━━━━━━━━━━━━━━\u001b[0m\u001b[37m\u001b[0m \u001b[1m0s\u001b[0m 0us/step\n",
            "Downloading data from https://storage.googleapis.com/tensorflow/tf-keras-datasets/t10k-images-idx3-ubyte.gz\n",
            "\u001b[1m4422102/4422102\u001b[0m \u001b[32m━━━━━━━━━━━━━━━━━━━━\u001b[0m\u001b[37m\u001b[0m \u001b[1m0s\u001b[0m 0us/step\n",
            "Train Dataset Shape:  (54000, 28, 28)\n",
            "Train Target Vector Shape:  (54000,)\n",
            "Test Dataset Shape: (10000, 28, 28)\n",
            "Test Target Vector Shape (10000,)\n",
            "Validation Dataset Shape: (6000, 28, 28)\n",
            "Validation Target Vector Shape (6000,)\n"
          ]
        }
      ]
    },
    {
      "cell_type": "code",
      "source": [
        "X_train = np.array(X_train.reshape(X_train.shape[0], 784,1))\n",
        "X_test = np.array(X_test.reshape(X_test.shape[0], 784,1))\n",
        "X_validation = np.array(X_validation.reshape(X_validation.shape[0], 784,1))"
      ],
      "metadata": {
        "id": "RTtYZTP877m3"
      },
      "execution_count": 3,
      "outputs": []
    },
    {
      "cell_type": "markdown",
      "source": [
        "**Initialization Functions**"
      ],
      "metadata": {
        "id": "S9UXJ7LBHeVM"
      }
    },
    {
      "cell_type": "code",
      "source": [
        "def layer_init(arr,n1,n2,init_type):\n",
        "    np.random.seed(10)\n",
        "    if init_type==\"random\":\n",
        "        arr.append(np.random.randn(n1,n2)*0.1)\n",
        "    elif init_type==\"xavier\":\n",
        "        arr.append(np.random.randn(n1,n2)*np.sqrt(2/(n1+n2)))\n",
        "    return arr\n",
        "\n",
        "def param(num_input_nodes, num_hidden_layers, hidden_layer_size, out_num, init_type):\n",
        "    W = []\n",
        "    B = []\n",
        "\n",
        "    layers = [num_input_nodes]  # Input layer\n",
        "    layers.extend([hidden_layer_size] * num_hidden_layers)  # Dynamic hidden layers\n",
        "    layers.append(out_num)  # Output layer\n",
        "\n",
        "    for i in range(len(layers) - 1):\n",
        "        W = layer_init(W, layers[i + 1], layers[i], init_type)\n",
        "        B = layer_init(B, layers[i + 1], 1, init_type)\n",
        "\n",
        "    return W, B"
      ],
      "metadata": {
        "id": "ew4gN6KU8bVc"
      },
      "execution_count": 4,
      "outputs": []
    },
    {
      "cell_type": "markdown",
      "source": [
        "**Activation Functions**"
      ],
      "metadata": {
        "id": "ood2IeHmHjbt"
      }
    },
    {
      "cell_type": "code",
      "source": [
        "#Activation function\n",
        "def activation(activation_function):\n",
        "    if activation_function == 'sigmoid':\n",
        "        return sigmoid\n",
        "    if activation_function == 'tanh':\n",
        "        return tanh\n",
        "    if activation_function == 'ReLU':\n",
        "        return relu\n",
        "\n",
        "def sigmoid(x, derivative = False):\n",
        "    if derivative:\n",
        "        return sigmoid(x)*(1-sigmoid(x))\n",
        "    return 1/(1 + np.exp(-x))\n",
        "\n",
        "def tanh(x, derivative = False):\n",
        "    if derivative:\n",
        "        return 1 - tanh(x)**2\n",
        "    return (np.exp(x)-np.exp(-x))/(np.exp(x)+np.exp(-x))\n",
        "\n",
        "def relu(x, derivative = False):\n",
        "    if derivative:\n",
        "        return (x>0)*1\n",
        "    return x*(x>0)\n",
        "\n",
        "def softmax(x,derivative = False):\n",
        "    if derivative:\n",
        "        return softmax(x)*(1- softmax(x))\n",
        "    return np.exp(x)/np.sum(np.exp(x), axis = 0)\n",
        "\n",
        "def one_hot(y, num_output_nodes):\n",
        "    v = np.zeros((num_output_nodes, len(y)))\n",
        "    for i,j in enumerate(y):\n",
        "        v[j,i] = 1\n",
        "    return v\n",
        "\n",
        "\n",
        "def softmax1(x,derivative = False):\n",
        "    if derivative:\n",
        "        return softmax1(x)*(1- softmax1(x))\n",
        "    x = np.array(x)\n",
        "    x -= np.max(x, axis=0, keepdims=True)  # Normalize values to avoid large exponentials\n",
        "    exp_x = np.exp(x)\n",
        "    return exp_x / (np.sum(exp_x, axis=0, keepdims=True) + 1e-10)  # Prevent divide by zero"
      ],
      "metadata": {
        "id": "mW3elU2n8d9F"
      },
      "execution_count": 5,
      "outputs": []
    },
    {
      "cell_type": "markdown",
      "source": [
        "**Feed Forward Propagation**"
      ],
      "metadata": {
        "id": "rPH2QCp8Hn1f"
      }
    },
    {
      "cell_type": "code",
      "source": [
        "def forward(x, W, B, activation_type):\n",
        "    h = []\n",
        "    a = []\n",
        "    sigma = activation(activation_type)  #activation\n",
        "    h.append(x)   #h0 = x\n",
        "    a.append(np.dot(W[0], h[0]) + B[0])\n",
        "    for i in range(len(W)-1):\n",
        "        h.append(sigma(a[-1]))\n",
        "        a.append(np.dot(W[i+1], h[-1]) + B[i+1])\n",
        "    y_hat = softmax1(a[-1])\n",
        "\n",
        "    return y_hat, h, a"
      ],
      "metadata": {
        "id": "Q09WoMqK8kkK"
      },
      "execution_count": 6,
      "outputs": []
    },
    {
      "cell_type": "markdown",
      "source": [
        "**Call to feed forward**"
      ],
      "metadata": {
        "id": "MuEaK6LUHsIe"
      }
    },
    {
      "cell_type": "code",
      "source": [
        "num_inputs_nodes = 784\n",
        "num_hidden_layers=3\n",
        "hidden_layer_size = 64\n",
        "num_output_nodes = 10\n",
        "init_type = \"random\"\n",
        "activation_type = \"sigmoid\"\n",
        "x = np.squeeze(X_train[5, :]).reshape(784,1)\n",
        "#print(x.shape)\n",
        "W_initial, B_initial = param(num_inputs_nodes, num_hidden_layers, hidden_layer_size, 10, init_type)\n",
        "\n",
        "y_hat, h, a = forward(x, W_initial, B_initial, activation_type)"
      ],
      "metadata": {
        "id": "P61CF3bR8nvl"
      },
      "execution_count": 7,
      "outputs": []
    },
    {
      "cell_type": "code",
      "source": [
        "print(y_hat)\n",
        "print(y_train[5])"
      ],
      "metadata": {
        "id": "jztpE3Mj98BL",
        "colab": {
          "base_uri": "https://localhost:8080/"
        },
        "outputId": "1efb99f6-cc65-4831-f204-1f27a9c0944a"
      },
      "execution_count": 8,
      "outputs": [
        {
          "output_type": "stream",
          "name": "stdout",
          "text": [
            "[[0.16627612]\n",
            " [0.08341476]\n",
            " [0.093154  ]\n",
            " [0.06220563]\n",
            " [0.1199608 ]\n",
            " [0.08469965]\n",
            " [0.08855028]\n",
            " [0.09151501]\n",
            " [0.04824781]\n",
            " [0.16197594]]\n",
            "9\n"
          ]
        }
      ]
    },
    {
      "cell_type": "code",
      "source": [
        "for i in range(10):\n",
        "  y_hat, h, a = forward(np.squeeze(X_train[i, :]).reshape(784,1) , W_initial, B_initial, activation_type)\n",
        "  print(\"************Output for image \",i, \"*************\")\n",
        "  print(y_hat)"
      ],
      "metadata": {
        "id": "g7IQXUGg-1fg",
        "colab": {
          "base_uri": "https://localhost:8080/"
        },
        "outputId": "7c570878-c638-4687-86c8-ecd8e8d71682"
      },
      "execution_count": 9,
      "outputs": [
        {
          "output_type": "stream",
          "name": "stdout",
          "text": [
            "************Output for image  0 *************\n",
            "[[0.16535935]\n",
            " [0.08452172]\n",
            " [0.09344616]\n",
            " [0.06179034]\n",
            " [0.12004742]\n",
            " [0.08473359]\n",
            " [0.08982494]\n",
            " [0.09174448]\n",
            " [0.04782148]\n",
            " [0.16071052]]\n",
            "************Output for image  1 *************\n",
            "[[0.16535467]\n",
            " [0.08539501]\n",
            " [0.09257386]\n",
            " [0.06163838]\n",
            " [0.11990898]\n",
            " [0.08419185]\n",
            " [0.08860838]\n",
            " [0.09172437]\n",
            " [0.04835878]\n",
            " [0.16224571]]\n",
            "************Output for image  2 *************\n",
            "[[0.16597428]\n",
            " [0.08345734]\n",
            " [0.09324991]\n",
            " [0.06222515]\n",
            " [0.11955948]\n",
            " [0.08483726]\n",
            " [0.08872647]\n",
            " [0.09137965]\n",
            " [0.04827091]\n",
            " [0.16231956]]\n",
            "************Output for image  3 *************\n",
            "[[0.16496699]\n",
            " [0.08489217]\n",
            " [0.09222594]\n",
            " [0.06161226]\n",
            " [0.12038857]\n",
            " [0.08509912]\n",
            " [0.08907748]\n",
            " [0.09219849]\n",
            " [0.04801234]\n",
            " [0.16152664]]\n",
            "************Output for image  4 *************\n",
            "[[0.16610213]\n",
            " [0.08388913]\n",
            " [0.09348495]\n",
            " [0.06194124]\n",
            " [0.11947023]\n",
            " [0.08455027]\n",
            " [0.08910457]\n",
            " [0.09165282]\n",
            " [0.04809485]\n",
            " [0.16170982]]\n",
            "************Output for image  5 *************\n",
            "[[0.16627612]\n",
            " [0.08341476]\n",
            " [0.093154  ]\n",
            " [0.06220563]\n",
            " [0.1199608 ]\n",
            " [0.08469965]\n",
            " [0.08855028]\n",
            " [0.09151501]\n",
            " [0.04824781]\n",
            " [0.16197594]]\n",
            "************Output for image  6 *************\n",
            "[[0.16567602]\n",
            " [0.08440287]\n",
            " [0.09323016]\n",
            " [0.06204489]\n",
            " [0.12029604]\n",
            " [0.08460822]\n",
            " [0.09022226]\n",
            " [0.09185125]\n",
            " [0.04784748]\n",
            " [0.1598208 ]]\n",
            "************Output for image  7 *************\n",
            "[[0.1660914 ]\n",
            " [0.08462129]\n",
            " [0.09311687]\n",
            " [0.06199011]\n",
            " [0.11959736]\n",
            " [0.08449414]\n",
            " [0.08847925]\n",
            " [0.09165157]\n",
            " [0.04804128]\n",
            " [0.16191673]]\n",
            "************Output for image  8 *************\n",
            "[[0.16554332]\n",
            " [0.08490338]\n",
            " [0.09347698]\n",
            " [0.06181505]\n",
            " [0.11975708]\n",
            " [0.08429568]\n",
            " [0.08930935]\n",
            " [0.09195663]\n",
            " [0.04801042]\n",
            " [0.1609321 ]]\n",
            "************Output for image  9 *************\n",
            "[[0.16545327]\n",
            " [0.08508779]\n",
            " [0.09324618]\n",
            " [0.0612525 ]\n",
            " [0.12067377]\n",
            " [0.08447543]\n",
            " [0.08848077]\n",
            " [0.09198824]\n",
            " [0.0479094 ]\n",
            " [0.16143264]]\n"
          ]
        }
      ]
    }
  ]
}