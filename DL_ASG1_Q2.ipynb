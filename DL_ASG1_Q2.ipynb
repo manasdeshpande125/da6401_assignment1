{
  "nbformat": 4,
  "nbformat_minor": 0,
  "metadata": {
    "colab": {
      "provenance": [],
      "authorship_tag": "ABX9TyMyXFN/mwPIyeYRLkiuLRnS",
      "include_colab_link": true
    },
    "kernelspec": {
      "name": "python3",
      "display_name": "Python 3"
    },
    "language_info": {
      "name": "python"
    }
  },
  "cells": [
    {
      "cell_type": "markdown",
      "metadata": {
        "id": "view-in-github",
        "colab_type": "text"
      },
      "source": [
        "<a href=\"https://colab.research.google.com/github/manasdeshpande125/da6401_assignment1/blob/main/DL_ASG1_Q2.ipynb\" target=\"_parent\"><img src=\"https://colab.research.google.com/assets/colab-badge.svg\" alt=\"Open In Colab\"/></a>"
      ]
    },
    {
      "cell_type": "code",
      "execution_count": 1,
      "metadata": {
        "id": "1Xt344yy7lWX"
      },
      "outputs": [],
      "source": [
        "from keras.datasets import fashion_mnist\n",
        "import numpy as np\n",
        "from  matplotlib import pyplot as plt\n",
        "import time\n",
        "import math\n",
        "from sklearn.model_selection import train_test_split\n",
        "import wandb"
      ]
    },
    {
      "cell_type": "code",
      "source": [
        "dataset= fashion_mnist.load_data()\n",
        "(X_train_and_validation, y_train_and_validation), (X_test, y_test) = dataset\n",
        "X_train, X_validation, y_train, y_validation = train_test_split(X_train_and_validation, y_train_and_validation, test_size=0.1, random_state=42)\n",
        "X_train = (X_train/255.0).astype(np.float32)\n",
        "X_validation = (X_validation/255.0).astype(np.float32)\n",
        "X_test = (X_test/255.0).astype(np.float32)\n",
        "\n",
        "print(\"Train Dataset Shape: \", X_train.shape)\n",
        "print(\"Train Target Vector Shape: \", y_train.shape)\n",
        "print(\"Test Dataset Shape:\", X_test.shape)\n",
        "print(\"Test Target Vector Shape\", y_test.shape)\n",
        "print(\"Validation Dataset Shape:\", X_validation.shape)\n",
        "print(\"Validation Target Vector Shape\", y_validation.shape)"
      ],
      "metadata": {
        "colab": {
          "base_uri": "https://localhost:8080/"
        },
        "id": "zB2Zc2P57zbQ",
        "outputId": "edc03b8c-8a33-488a-a3df-edfee9925fb9"
      },
      "execution_count": 2,
      "outputs": [
        {
          "output_type": "stream",
          "name": "stdout",
          "text": [
            "Downloading data from https://storage.googleapis.com/tensorflow/tf-keras-datasets/train-labels-idx1-ubyte.gz\n",
            "\u001b[1m29515/29515\u001b[0m \u001b[32m━━━━━━━━━━━━━━━━━━━━\u001b[0m\u001b[37m\u001b[0m \u001b[1m0s\u001b[0m 0us/step\n",
            "Downloading data from https://storage.googleapis.com/tensorflow/tf-keras-datasets/train-images-idx3-ubyte.gz\n",
            "\u001b[1m26421880/26421880\u001b[0m \u001b[32m━━━━━━━━━━━━━━━━━━━━\u001b[0m\u001b[37m\u001b[0m \u001b[1m0s\u001b[0m 0us/step\n",
            "Downloading data from https://storage.googleapis.com/tensorflow/tf-keras-datasets/t10k-labels-idx1-ubyte.gz\n",
            "\u001b[1m5148/5148\u001b[0m \u001b[32m━━━━━━━━━━━━━━━━━━━━\u001b[0m\u001b[37m\u001b[0m \u001b[1m0s\u001b[0m 0us/step\n",
            "Downloading data from https://storage.googleapis.com/tensorflow/tf-keras-datasets/t10k-images-idx3-ubyte.gz\n",
            "\u001b[1m4422102/4422102\u001b[0m \u001b[32m━━━━━━━━━━━━━━━━━━━━\u001b[0m\u001b[37m\u001b[0m \u001b[1m0s\u001b[0m 0us/step\n",
            "Train Dataset Shape:  (54000, 28, 28)\n",
            "Train Target Vector Shape:  (54000,)\n",
            "Test Dataset Shape: (10000, 28, 28)\n",
            "Test Target Vector Shape (10000,)\n",
            "Validation Dataset Shape: (6000, 28, 28)\n",
            "Validation Target Vector Shape (6000,)\n"
          ]
        }
      ]
    },
    {
      "cell_type": "code",
      "source": [
        "X_train = np.array(X_train.reshape(X_train.shape[0], 784,1))\n",
        "X_test = np.array(X_test.reshape(X_test.shape[0], 784,1))\n",
        "X_validation = np.array(X_validation.reshape(X_validation.shape[0], 784,1))"
      ],
      "metadata": {
        "id": "RTtYZTP877m3"
      },
      "execution_count": 3,
      "outputs": []
    },
    {
      "cell_type": "code",
      "source": [
        "def layer_init(arr,n1,n2,init_type):\n",
        "    np.random.seed(10)\n",
        "    if init_type==\"random\":\n",
        "        arr.append(np.random.randn(n1,n2)*0.1)\n",
        "    elif init_type==\"xavier\":\n",
        "        arr.append(np.random.randn(n1,n2)*np.sqrt(2/(n1+n2)))\n",
        "    return arr\n",
        "\n",
        "def param(layers,init_type):\n",
        "    W=[]\n",
        "    B=[]\n",
        "    for i in range(len(layers)-1):\n",
        "        W=layer_init(W,layers[i+1],layers[i],init_type)\n",
        "        B=layer_init(B,layers[i+1],1,init_type)\n",
        "    return W,B"
      ],
      "metadata": {
        "id": "ew4gN6KU8bVc"
      },
      "execution_count": 4,
      "outputs": []
    },
    {
      "cell_type": "code",
      "source": [
        "#Activation function\n",
        "def activation(activation_function):\n",
        "    if activation_function == 'sigmoid':\n",
        "        return sigmoid\n",
        "    if activation_function == 'tanh':\n",
        "        return tanh\n",
        "    if activation_function == 'ReLU':\n",
        "        return relu\n",
        "\n",
        "def sigmoid(x, derivative = False):\n",
        "    if derivative:\n",
        "        return sigmoid(x)*(1-sigmoid(x))\n",
        "    return 1/(1 + np.exp(-x))\n",
        "\n",
        "def tanh(x, derivative = False):\n",
        "    if derivative:\n",
        "        return 1 - tanh(x)**2\n",
        "    return (np.exp(x)-np.exp(-x))/(np.exp(x)+np.exp(-x))\n",
        "\n",
        "def relu(x, derivative = False):\n",
        "    if derivative:\n",
        "        return (x>0)*1\n",
        "    return x*(x>0)\n",
        "\n",
        "def softmax(x,derivative = False):\n",
        "    if derivative:\n",
        "        return softmax(x)*(1- softmax(x))\n",
        "    return np.exp(x)/np.sum(np.exp(x), axis = 0)\n",
        "\n",
        "def one_hot(y, num_output_nodes):\n",
        "    v = np.zeros((num_output_nodes, len(y)))\n",
        "    for i,j in enumerate(y):\n",
        "        v[j,i] = 1\n",
        "    return v"
      ],
      "metadata": {
        "id": "mW3elU2n8d9F"
      },
      "execution_count": 5,
      "outputs": []
    },
    {
      "cell_type": "code",
      "source": [
        "def forward(x, W, B, activation_type):\n",
        "    h = []\n",
        "    a = []\n",
        "    sigma = activation(activation_type)  #activation\n",
        "    h.append(x)   #h0 = x\n",
        "    a.append(np.dot(W[0], h[0]) + B[0])\n",
        "    for i in range(len(W)-1):\n",
        "        h.append(sigma(a[-1]))\n",
        "        a.append(np.dot(W[i+1], h[-1]) + B[i+1])\n",
        "    y_hat = softmax(a[-1])\n",
        "\n",
        "    return y_hat, h, a"
      ],
      "metadata": {
        "id": "Q09WoMqK8kkK"
      },
      "execution_count": 6,
      "outputs": []
    },
    {
      "cell_type": "code",
      "source": [
        "num_inputs_nodes = [784]\n",
        "hidden_layers = [64,32,16]\n",
        "num_output_nodes = [10]\n",
        "init_type = \"xavier\"\n",
        "activation_type = \"sigmoid\"\n",
        "layers=[]\n",
        "layers.extend(num_inputs_nodes)\n",
        "layers.extend(hidden_layers)\n",
        "layers.extend(num_output_nodes)\n",
        "x = np.squeeze(X_train[5, :]).reshape(784,1)\n",
        "#print(x.shape)\n",
        "W_initial, B_initial = param(layers, init_type)\n",
        "\n",
        "y_hat, h, a = forward(x, W_initial, B_initial, activation_type)"
      ],
      "metadata": {
        "id": "P61CF3bR8nvl"
      },
      "execution_count": 26,
      "outputs": []
    },
    {
      "cell_type": "code",
      "source": [
        "print(y_hat)"
      ],
      "metadata": {
        "colab": {
          "base_uri": "https://localhost:8080/"
        },
        "id": "jztpE3Mj98BL",
        "outputId": "795ce343-b475-4003-f536-89a49d3aa86c"
      },
      "execution_count": 27,
      "outputs": [
        {
          "output_type": "stream",
          "name": "stdout",
          "text": [
            "[[0.22847141]\n",
            " [0.10163002]\n",
            " [0.02870609]\n",
            " [0.11766904]\n",
            " [0.08940631]\n",
            " [0.05978851]\n",
            " [0.03667123]\n",
            " [0.14356312]\n",
            " [0.09937401]\n",
            " [0.09472026]]\n"
          ]
        }
      ]
    },
    {
      "cell_type": "code",
      "source": [
        "for i in range(10):\n",
        "  y_hat, h, a = forward(np.squeeze(X_train[i, :]).reshape(784,1) , W_initial, B_initial, activation_type)\n",
        "  print(\"************Output for image \",i, \"*************\")\n",
        "  print(y_hat)"
      ],
      "metadata": {
        "colab": {
          "base_uri": "https://localhost:8080/"
        },
        "id": "g7IQXUGg-1fg",
        "outputId": "0d6b8cec-2b82-4ddd-96e8-c345704d373a"
      },
      "execution_count": 31,
      "outputs": [
        {
          "output_type": "stream",
          "name": "stdout",
          "text": [
            "************Output for image  0 *************\n",
            "[[0.23010952]\n",
            " [0.10006081]\n",
            " [0.02851304]\n",
            " [0.11695792]\n",
            " [0.08902172]\n",
            " [0.06010883]\n",
            " [0.0365549 ]\n",
            " [0.14468414]\n",
            " [0.0989097 ]\n",
            " [0.09507941]]\n",
            "************Output for image  1 *************\n",
            "[[0.23030231]\n",
            " [0.09963766]\n",
            " [0.02872474]\n",
            " [0.11608756]\n",
            " [0.08888428]\n",
            " [0.06066985]\n",
            " [0.03745229]\n",
            " [0.14427342]\n",
            " [0.09911809]\n",
            " [0.09484981]]\n",
            "************Output for image  2 *************\n",
            "[[0.22897843]\n",
            " [0.10166402]\n",
            " [0.02878144]\n",
            " [0.1175915 ]\n",
            " [0.0893829 ]\n",
            " [0.05989562]\n",
            " [0.03668945]\n",
            " [0.14324597]\n",
            " [0.0990675 ]\n",
            " [0.09470316]]\n",
            "************Output for image  3 *************\n",
            "[[0.22966501]\n",
            " [0.098349  ]\n",
            " [0.02888103]\n",
            " [0.11681589]\n",
            " [0.08806132]\n",
            " [0.06114067]\n",
            " [0.03689665]\n",
            " [0.14525964]\n",
            " [0.09927404]\n",
            " [0.09565675]]\n",
            "************Output for image  4 *************\n",
            "[[0.22967552]\n",
            " [0.1005255 ]\n",
            " [0.02837747]\n",
            " [0.11650508]\n",
            " [0.08930371]\n",
            " [0.06009192]\n",
            " [0.03669014]\n",
            " [0.14483657]\n",
            " [0.09946875]\n",
            " [0.09452534]]\n",
            "************Output for image  5 *************\n",
            "[[0.22847141]\n",
            " [0.10163002]\n",
            " [0.02870609]\n",
            " [0.11766904]\n",
            " [0.08940631]\n",
            " [0.05978851]\n",
            " [0.03667123]\n",
            " [0.14356312]\n",
            " [0.09937401]\n",
            " [0.09472026]]\n",
            "************Output for image  6 *************\n",
            "[[0.22989868]\n",
            " [0.10033489]\n",
            " [0.02875997]\n",
            " [0.11702608]\n",
            " [0.08904398]\n",
            " [0.06014749]\n",
            " [0.03659299]\n",
            " [0.14471996]\n",
            " [0.09838495]\n",
            " [0.09509102]]\n",
            "************Output for image  7 *************\n",
            "[[0.22934992]\n",
            " [0.1017069 ]\n",
            " [0.02851815]\n",
            " [0.11675836]\n",
            " [0.09002468]\n",
            " [0.0595062 ]\n",
            " [0.03673423]\n",
            " [0.14373354]\n",
            " [0.09963634]\n",
            " [0.09403169]]\n",
            "************Output for image  8 *************\n",
            "[[0.23016595]\n",
            " [0.09968493]\n",
            " [0.0284383 ]\n",
            " [0.11684521]\n",
            " [0.08874494]\n",
            " [0.06024642]\n",
            " [0.0365582 ]\n",
            " [0.14490485]\n",
            " [0.09929167]\n",
            " [0.09511953]]\n",
            "************Output for image  9 *************\n",
            "[[0.23040702]\n",
            " [0.09849483]\n",
            " [0.02806777]\n",
            " [0.11610134]\n",
            " [0.08850303]\n",
            " [0.06051634]\n",
            " [0.03659641]\n",
            " [0.14611078]\n",
            " [0.10034844]\n",
            " [0.09485404]]\n"
          ]
        }
      ]
    },
    {
      "cell_type": "code",
      "source": [],
      "metadata": {
        "id": "Gl9BWs81Afdf"
      },
      "execution_count": null,
      "outputs": []
    }
  ]
}